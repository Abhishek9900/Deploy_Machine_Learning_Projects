{
 "cells": [
  {
   "cell_type": "markdown",
   "metadata": {},
   "source": [
    "<h1 style = \"background-color: rgb(102, 153, 255); padding:10px;\">\n",
    "Flask Chatterbot code\n",
    "    </h1>"
   ]
  },
  {
   "cell_type": "markdown",
   "metadata": {},
   "source": [
    "<div style = \"background-color: rgb(152, 183, 255); padding:10px;\">\n",
    "<p>\n",
    "This code is for creating a chatbot application using flask and accessing the application as a web App using Flask.\n",
    "\n",
    "</p>\n",
    "</div>"
   ]
  },
  {
   "cell_type": "markdown",
   "metadata": {},
   "source": [
    "Requirements\n",
    "\n",
    "<code>   pip install --user --upgrade PyYAML\n",
    "    pip install chatterbot\n",
    "    pip install flask\n",
    "    pip install chatterbot-corpus\n",
    "</code>"
   ]
  },
  {
   "cell_type": "markdown",
   "metadata": {},
   "source": [
    "<p>To run this code navigate to the repository, and run the following command on the terminal/cmd - \n",
    "</p><br>\n",
    "<code> python app.py </code>\n",
    "\n",
    "<p> The above command will start the server on <code> http://127.0.0.1:5000/ </code> open the url to access the bot</p>"
   ]
  },
  {
   "cell_type": "markdown",
   "metadata": {},
   "source": [
    "<p> You can also trian the chatbot with custom data more details on what variants of bots you can use refer the documentation of chatterbot at - \n",
    "</p>\n",
    "\n",
    "https://chatterbot.readthedocs.io/en/stable/examples.html"
   ]
  }
 ],
 "metadata": {
  "kernelspec": {
   "display_name": "Python 3",
   "language": "python",
   "name": "python3"
  },
  "language_info": {
   "codemirror_mode": {
    "name": "ipython",
    "version": 3
   },
   "file_extension": ".py",
   "mimetype": "text/x-python",
   "name": "python",
   "nbconvert_exporter": "python",
   "pygments_lexer": "ipython3",
   "version": "3.6.7"
  }
 },
 "nbformat": 4,
 "nbformat_minor": 2
}
